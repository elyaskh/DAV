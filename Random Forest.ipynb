{
 "cells": [
  {
   "cell_type": "code",
   "execution_count": null,
   "metadata": {},
   "outputs": [],
   "source": [
    "import pandas as pd\n",
    "import glob\n",
    "import numpy as np\n",
    "from sklearn.ensemble import RandomForestClassifier\n",
    "from sklearn.model_selection import train_test_split\n",
    "from sklearn import metrics \n",
    "from six import StringIO  \n",
    "\n",
    "\n",
    "df = pd.concat([pd.read_csv(f, sep=',', na_values=\".\", header=None) for f in glob.glob('watch/gyro/*.txt')], ignore_index=True)\n",
    "\n",
    "Bf = df[[1,3,4,5]][df[1] == 'B']\n",
    "Ff = df[[1,3,4,5]][df[1] == 'F']\n",
    "Sf = df[[1,3,4,5]][df[1] == 'S']\n",
    "\n",
    "ds0 = Bf.append(Ff, ignore_index=True)\n",
    "dsf = ds0.append(Sf, ignore_index=True)\n",
    "\n",
    "X = dsf[[3,4,5]]\n",
    "Y = dsf[[1]]\n",
    "y = np.ravel(Y)\n",
    "\n",
    "X_train, X_test, y_train, y_test = train_test_split(X, y, test_size=0.33, random_state=42)\n",
    "\n",
    "clf=RandomForestClassifier(n_estimators=500)\n",
    "clf.fit(X_train,y_train)\n",
    "\n",
    "y_pred = clf.predict(X_test)\n",
    "print(\"Accuracy:\",metrics.accuracy_score(y_test, y_pred))"
   ]
  },
  {
   "cell_type": "code",
   "execution_count": 4,
   "metadata": {},
   "outputs": [
    {
     "name": "stdout",
     "output_type": "stream",
     "text": [
      "Accuracy: 0.7443900046383426\n"
     ]
    },
    {
     "data": {
      "text/plain": [
       "Y    0.370465\n",
       "Z    0.342974\n",
       "X    0.286561\n",
       "dtype: float64"
      ]
     },
     "execution_count": 4,
     "metadata": {},
     "output_type": "execute_result"
    }
   ],
   "source": [
    "import pandas as pd\n",
    "import glob\n",
    "import numpy as np\n",
    "from sklearn.ensemble import RandomForestClassifier\n",
    "from sklearn.model_selection import train_test_split # Import train_test_split function\n",
    "from sklearn import metrics #Import scikit-learn metrics module for accuracy calculation\n",
    "from six import StringIO  \n",
    "\n",
    "df = pd.concat([pd.read_csv(f, sep=',', na_values=\".\", header=None) for f in glob.glob('watch/gyro/*.txt')], ignore_index=True)\n",
    "\n",
    "Bf = df[[1,3,4,5]][df[1] == 'B']\n",
    "Ff = df[[1,3,4,5]][df[1] == 'F']\n",
    "Sf = df[[1,3,4,5]][df[1] == 'S']\n",
    "\n",
    "ds0 = Bf.append(Ff, ignore_index=True)\n",
    "dsf = ds0.append(Sf, ignore_index=True)\n",
    "\n",
    "X = dsf[[3,4,5]]\n",
    "Y = dsf[[1]]\n",
    "y = np.ravel(Y)\n",
    "\n",
    "X_train, X_test, y_train, y_test = train_test_split(X, y, test_size=0.33, random_state=42)\n",
    "\n",
    "clf=RandomForestClassifier(n_estimators=100)\n",
    "clf.fit(X_train,y_train)\n",
    "\n",
    "y_pred = clf.predict(X_test)\n",
    "print(\"Accuracy:\",metrics.accuracy_score(y_test, y_pred))\n",
    "\n",
    "feature_imp = pd.Series(clf.feature_importances_,index=['X','Y','Z']).sort_values(ascending=False)\n",
    "feature_imp"
   ]
  },
  {
   "cell_type": "code",
   "execution_count": 13,
   "metadata": {},
   "outputs": [
    {
     "name": "stderr",
     "output_type": "stream",
     "text": [
      "No handles with labels found to put in legend.\n"
     ]
    },
    {
     "name": "stdout",
     "output_type": "stream",
     "text": [
      "Accuracy: 0.7452536960126248\n"
     ]
    },
    {
     "data": {
      "image/png": "[encoded data removed]",
      "text/plain": [
       "<Figure size 432x288 with 1 Axes>"
      ]
     },
     "metadata": {
      "needs_background": "light"
     },
     "output_type": "display_data"
    }
   ],
   "source": [
    "import pandas as pd\n",
    "import glob\n",
    "import numpy as np\n",
    "from sklearn.ensemble import RandomForestClassifier\n",
    "from sklearn.model_selection import train_test_split # Import train_test_split function\n",
    "from sklearn import metrics #Import scikit-learn metrics module for accuracy calculation\n",
    "from six import StringIO\n",
    "import matplotlib.pyplot as plt\n",
    "import seaborn as sns\n",
    "%matplotlib inline\n",
    "\n",
    "df = pd.concat([pd.read_csv(f, sep=',', na_values=\".\", header=None) for f in glob.glob('watch/gyro/*.txt')], ignore_index=True)\n",
    "\n",
    "Bf = df[[1,3,4,5]][df[1] == 'B']\n",
    "Ff = df[[1,3,4,5]][df[1] == 'F']\n",
    "Sf = df[[1,3,4,5]][df[1] == 'S']\n",
    "\n",
    "ds0 = Bf.append(Ff, ignore_index=True)\n",
    "dsf = ds0.append(Sf, ignore_index=True)\n",
    "\n",
    "X = dsf[[3,4,5]]\n",
    "Y = dsf[[1]]\n",
    "y = np.ravel(Y)\n",
    "\n",
    "X_train, X_test, y_train, y_test = train_test_split(X, y, test_size=0.33, random_state=42)\n",
    "\n",
    "clf=RandomForestClassifier(n_estimators=100)\n",
    "clf.fit(X_train,y_train)\n",
    "\n",
    "y_pred = clf.predict(X_test)\n",
    "print(\"Accuracy:\",metrics.accuracy_score(y_test, y_pred))\n",
    "\n",
    "feature_imp = pd.Series(clf.feature_importances_,index=['X','Y','Z']).sort_values(ascending=False)\n",
    "sns.barplot(x=feature_imp, y=feature_imp.index)\n",
    "plt.xlabel('Feature Importance Score')\n",
    "plt.ylabel('Features')\n",
    "plt.title(\"Visualizing Important Features\")\n",
    "plt.legend()\n",
    "plt.show()"
   ]
  },
  {
   "cell_type": "code",
   "execution_count": null,
   "metadata": {},
   "outputs": [],
   "source": []
  }
 ],
 "metadata": {
  "kernelspec": {
   "display_name": "Python 3",
   "language": "python",
   "name": "python3"
  },
  "language_info": {
   "codemirror_mode": {
    "name": "ipython",
    "version": 3
   },
   "file_extension": ".py",
   "mimetype": "text/x-python",
   "name": "python",
   "nbconvert_exporter": "python",
   "pygments_lexer": "ipython3",
   "version": "3.8.5"
  }
 },
 "nbformat": 4,
 "nbformat_minor": 4
}
