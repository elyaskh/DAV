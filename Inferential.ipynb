{
 "cells": [
  {
   "cell_type": "code",
   "execution_count": 18,
   "metadata": {},
   "outputs": [
    {
     "name": "stdout",
     "output_type": "stream",
     "text": [
      "F Value (x)  = 1116.34 \n",
      "P Value (x)  = 0 \n",
      "The null hypothesis can be rejected\n",
      "\n",
      "\n",
      "F Value (y)  = 5.02549 \n",
      "P Value (y)  = 0.00656867 \n",
      "The null hypothesis can be rejected\n",
      "\n",
      "\n",
      "F Value (z)  = 13.9398 \n",
      "P Value (z)  = 8.83457e-07 \n",
      "The null hypothesis can be rejected\n"
     ]
    }
   ],
   "source": [
    "import glob\n",
    "import pandas as pd\n",
    "import scipy.stats as stats\n",
    "\n",
    "df = pd.concat([pd.read_csv(f, sep=',', na_values=\".\", header=None) for f in glob.glob('watch/gyro/*.txt')], ignore_index=True)\n",
    "\n",
    "Bf = df[[1,3,4,5]][df[1] == 'B']\n",
    "Ff = df[[1,3,4,5]][df[1] == 'F']\n",
    "Sf = df[[1,3,4,5]][df[1] == 'S']\n",
    "\n",
    "alpha = 0.01\n",
    "\n",
    "fvalue, pvalue = stats.f_oneway(Bf[3], Ff[3], Sf[3])\n",
    "print(\"F Value (x)  = {:g} \".format(fvalue))\n",
    "print(\"P Value (x)  = {:g} \".format(pvalue))\n",
    "if pvalue < alpha:  # null hypothesis: x comes from a normal distribution\n",
    "    print(\"The null hypothesis can be rejected\")\n",
    "else:\n",
    "    print(\"The null hypothesis is accepted\")\n",
    "print(\"\\n\")\n",
    "fvalue, pvalue = stats.f_oneway(Bf[4], Ff[4], Sf[4])\n",
    "print(\"F Value (y)  = {:g} \".format(fvalue))\n",
    "print(\"P Value (y)  = {:g} \".format(pvalue))\n",
    "if pvalue < alpha:  # null hypothesis: x comes from a normal distribution\n",
    "    print(\"The null hypothesis can be rejected\")\n",
    "else:\n",
    "    print(\"The null hypothesis is accepted\")\n",
    "print(\"\\n\")\n",
    "fvalue, pvalue = stats.f_oneway(Bf[5], Ff[5], Sf[5])\n",
    "print(\"F Value (z)  = {:g} \".format(fvalue))\n",
    "print(\"P Value (z)  = {:g} \".format(pvalue))\n",
    "if pvalue < alpha:  # null hypothesis: x comes from a normal distribution\n",
    "    print(\"The null hypothesis can be rejected\")\n",
    "else:\n",
    "    print(\"The null hypothesis is accepted\")\n",
    "\n",
    "\n",
    "\n",
    "\n"
   ]
  },
  {
   "cell_type": "code",
   "execution_count": null,
   "metadata": {},
   "outputs": [],
   "source": []
  }
 ],
 "metadata": {
  "kernelspec": {
   "display_name": "Python 3",
   "language": "python",
   "name": "python3"
  },
  "language_info": {
   "codemirror_mode": {
    "name": "ipython",
    "version": 3
   },
   "file_extension": ".py",
   "mimetype": "text/x-python",
   "name": "python",
   "nbconvert_exporter": "python",
   "pygments_lexer": "ipython3",
   "version": "3.8.5"
  }
 },
 "nbformat": 4,
 "nbformat_minor": 4
}
